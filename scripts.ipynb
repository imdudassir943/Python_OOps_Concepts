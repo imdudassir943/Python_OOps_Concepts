{
 "cells": [
  {
   "cell_type": "code",
   "execution_count": 1,
   "id": "5654d09a",
   "metadata": {},
   "outputs": [
    {
     "name": "stdout",
     "output_type": "stream",
     "text": [
      "hello world!\n"
     ]
    }
   ],
   "source": [
    "print(\"hello world!\")"
   ]
  },
  {
   "cell_type": "markdown",
   "id": "3255651c",
   "metadata": {},
   "source": [
    "The '__init__(self):' method that calls automatically when we create an object. \n",
    "The '__init__(self):' is also known as constructor method."
   ]
  },
  {
   "cell_type": "code",
   "execution_count": null,
   "id": "57d8dbaa",
   "metadata": {},
   "outputs": [
    {
     "name": "stdout",
     "output_type": "stream",
     "text": [
      "bruce, scottish terrier\n",
      "danny\n",
      "1122 spring field drive\n",
      "888-999\n",
      "freya, greyhound\n",
      "sally\n",
      "0033 spring field drive\n",
      "888-777\n",
      "True\n"
     ]
    }
   ],
   "source": [
    "class Dog:\n",
    "    def __init__(self, name, breed, owner):\n",
    "        self.name = name\n",
    "        self.breed = breed\n",
    "        self.owner = owner\n",
    "\n",
    "    def bark(self):\n",
    "        print(\"whoof! whoof!\")\n",
    "\n",
    "class Owner:\n",
    "    def __init__(self, name, address, contact_number):\n",
    "        self.name = name\n",
    "        self.address = address\n",
    "        self.contact_number = contact_number\n",
    "\n",
    "owner1 = Owner('danny', '1122 spring field drive', '888-999')\n",
    "dog1 = Dog('bruce,', 'scottish terrier', owner1)\n",
    "print(dog1.name, dog1.breed)\n",
    "print(dog1.owner.name)\n",
    "print(dog1.owner.address)\n",
    "print(dog1.owner.contact_number)\n",
    "\n",
    "owner2 = Owner('sally', '0033 spring field drive', '888-777')\n",
    "dog2 = Dog('freya,', 'greyhound', owner2)\n",
    "print(dog2.name, dog2.breed)\n",
    "print(dog2.owner.name)\n",
    "print(dog2.owner.address)\n",
    "print(dog2.owner.contact_number)"
   ]
  },
  {
   "cell_type": "markdown",
   "id": "a40b8495",
   "metadata": {},
   "source": [
    "Example with Person Class:"
   ]
  },
  {
   "cell_type": "code",
   "execution_count": 2,
   "id": "4e144c7b",
   "metadata": {},
   "outputs": [
    {
     "name": "stdout",
     "output_type": "stream",
     "text": [
      "Hello, My name is Allice, and I am 29 years old.\n"
     ]
    }
   ],
   "source": [
    "class Person:\n",
    "    def __init__(self, name, age):\n",
    "        self.name = name\n",
    "        self.age = age\n",
    "\n",
    "    def greet(self):\n",
    "        print(f\"Hello, My name is {self.name}, and I am {self.age} years old.\")\n",
    "\n",
    "person1 = Person(\"Allice\", 29)\n",
    "person1.greet()"
   ]
  },
  {
   "cell_type": "code",
   "execution_count": 1,
   "id": "3b05f1ad",
   "metadata": {},
   "outputs": [
    {
     "name": "stdout",
     "output_type": "stream",
     "text": [
      "Sending message to Usman, Hi Usman, it's Ali\n"
     ]
    }
   ],
   "source": [
    "class User:\n",
    "    def __init__(self, username, email, password):\n",
    "        self.username = username\n",
    "        self.email = email\n",
    "        self.password = password\n",
    "\n",
    "    def say_hi_to_user(self, user):\n",
    "        print(f\"Sending message to {user.username}, Hi {user.username}, it's {self.username}\")\n",
    "\n",
    "user1 = User(\"Ali\", \"ali@gmail.com\", \"123123\")\n",
    "user2 = User(\"Usman\", \"usman@gmail.com\", \"456456\")\n",
    "\n",
    "user1.say_hi_to_user(user2)"
   ]
  },
  {
   "cell_type": "code",
   "execution_count": null,
   "id": "7aea1138",
   "metadata": {},
   "outputs": [
    {
     "name": "stdout",
     "output_type": "stream",
     "text": [
      "dan@gmail.com\n"
     ]
    }
   ],
   "source": [
    "class User:\n",
    "    def __init__(self, username, email, password):\n",
    "        self.username = username\n",
    "        self._email = email\n",
    "        self.password = password\n",
    "\n",
    "    def get_email(self):\n",
    "        return self._email\n",
    "    \n",
    "user1 = User(\"Ahmad\", \"dan@gmail.com\", \"123123\")\n",
    "print(user1._email)\n",
    "\n"
   ]
  },
  {
   "cell_type": "code",
   "execution_count": null,
   "id": "8dcc64b1",
   "metadata": {},
   "outputs": [
    {
     "name": "stdout",
     "output_type": "stream",
     "text": [
      "    Dan@gmail.com\n",
      "dan@gmail.com\n"
     ]
    }
   ],
   "source": [
    "class User:\n",
    "    def __init__(self, username, email, password):\n",
    "        self.username = username\n",
    "        self._email = email\n",
    "        self.password = password\n",
    "\n",
    "    def clean_email(self):\n",
    "        return self._email.lower().strip()\n",
    "    \n",
    "user1 = User(\"Ahmad\", \"    Dan@gmail.com\", \"123123\")\n",
    "\n",
    "print(user1.clean_email())\n"
   ]
  },
  {
   "cell_type": "code",
   "execution_count": 3,
   "id": "70d517bf",
   "metadata": {},
   "outputs": [
    {
     "name": "stdout",
     "output_type": "stream",
     "text": [
      "danthe@gmail.com\n",
      "danny@outlook.com\n"
     ]
    }
   ],
   "source": [
    "class User:\n",
    "    def __init__(self, username, email, password):\n",
    "        self.username = username\n",
    "        self._email = email\n",
    "        self.password = password\n",
    "\n",
    "    def get_email(self):\n",
    "        return self._email\n",
    "    \n",
    "    def set_email(self, new_email):\n",
    "        if \"@\" in new_email:\n",
    "            self._email = new_email\n",
    "        else :\n",
    "            print(\"invalid email address\")\n",
    "\n",
    "    \n",
    "\n",
    "user1 = User(\"Ahmad, \", \"danthe@gmail.com\", \"123123\" )\n",
    "print(user1.get_email())\n",
    "\n",
    "user1.set_email(\"danny@outlook.com\")\n",
    "\n",
    "print(user1.get_email())"
   ]
  },
  {
   "cell_type": "code",
   "execution_count": 7,
   "id": "3ac6ca2d",
   "metadata": {},
   "outputs": [
    {
     "name": "stdout",
     "output_type": "stream",
     "text": [
      "Username: Ahmad Email: ahmad@gmail.com\n",
      "Username: Usman Email: usman@gmail.com\n"
     ]
    }
   ],
   "source": [
    "class User:\n",
    "    user_count = 0\n",
    "\n",
    "    def __init__(self, username, email):\n",
    "        self.username = username\n",
    "        self.email = email\n",
    "        User.user_count += 1\n",
    "\n",
    "    def display_user(self):\n",
    "        return f\"Username: {self.username} Email: {self.email}\"\n",
    "\n",
    "user1 = User(\"Ahmad\", \"ahmad@gmail.com\")\n",
    "user2 = User(\"Usman\", \"usman@gmail.com\")\n",
    "user3 = User(\"Khan\", \"ik@gmail.com\")\n",
    "\n",
    "# print(User.user_count)\n",
    "# print(user1.user_count)\n",
    "\n",
    "print(user1.display_user())\n",
    "print(user2.display_user())"
   ]
  },
  {
   "cell_type": "code",
   "execution_count": null,
   "id": "dadfd8b0",
   "metadata": {},
   "outputs": [
    {
     "name": "stdout",
     "output_type": "stream",
     "text": [
      "mudassir's new balance is 800\n",
      "mudassir's new balance is 1000\n",
      "True\n"
     ]
    }
   ],
   "source": [
    "class BankAccount:\n",
    "    MIN_BALANCE = 100\n",
    "\n",
    "    def __init__(self, owner, balance = 0):\n",
    "        self.owner = owner\n",
    "        self._balance = balance\n",
    "\n",
    "    def deposit_amount(self, amount):\n",
    "        if amount > 0:\n",
    "            self._balance += amount\n",
    "            print(f\"{self.owner}'s new balance is {self._balance}\")\n",
    "        else:\n",
    "            print(\"Deposit amount must be positive.\")\n",
    "        \n",
    "    @staticmethod\n",
    "    def is_valid_interest_rate(rate):\n",
    "        return 0 <= rate <= 5\n",
    "    \n",
    "account1 = BankAccount(\"mudassir\", 500)\n",
    "account1.deposit_amount(300)\n",
    "account1.deposit_amount(200)\n",
    "\n",
    "print(BankAccount.is_valid_interest_rate(3))\n",
    "\n",
    "\n"
   ]
  },
  {
   "cell_type": "code",
   "execution_count": 8,
   "id": "237ef03e",
   "metadata": {},
   "outputs": [
    {
     "name": "stdout",
     "output_type": "stream",
     "text": [
      "0.0\n",
      "199.0\n",
      "99.0\n"
     ]
    }
   ],
   "source": [
    "# Encapsulation in Python\n",
    "\n",
    "# class BadBankAccount:\n",
    "    # def __init__(self, balance):\n",
    "        # self.balance = balance\n",
    "\n",
    "# account = BadBankAccount(0.0)\n",
    "# account.balance = -1\n",
    "# print(account.balance)\n",
    "\n",
    "class BankAccount:\n",
    "    def __init__(self):\n",
    "        self._balance = 0.0\n",
    "    \n",
    "    @property\n",
    "    def balance(self):\n",
    "        return self._balance\n",
    "    \n",
    "    def deposit(self, amount):\n",
    "        if amount <= 0:\n",
    "            raise ValueError(\"Deposit amount must be positive!!!\")\n",
    "        self._balance += amount\n",
    "\n",
    "    def withdraw(self, amount):\n",
    "        if amount <= 0:\n",
    "            raise ValueError(\"Withdraw amount must be positive!!!\")\n",
    "        \n",
    "        if amount > self._balance:\n",
    "            raise ValueError(\"Insufficient amount to withdraw!!!\")\n",
    "        self._balance -= amount\n",
    "\n",
    "account = BankAccount()\n",
    "print(account.balance)\n",
    "account.deposit(199)\n",
    "print(account.balance)\n",
    "account.withdraw(100)\n",
    "print(account.balance)\n",
    "\n",
    "        "
   ]
  },
  {
   "cell_type": "code",
   "execution_count": null,
   "id": "3ef68d94",
   "metadata": {},
   "outputs": [],
   "source": []
  },
  {
   "cell_type": "code",
   "execution_count": 11,
   "id": "1ee94ef4",
   "metadata": {},
   "outputs": [
    {
     "name": "stdout",
     "output_type": "stream",
     "text": [
      "Connecting the email...\n",
      "Authenticating the email...\n",
      "Sending the email...\n",
      "Disconnecting the email\n"
     ]
    }
   ],
   "source": [
    "# Abstraction\n",
    "# Reduce complexity by hiding unessential or unnecessary information\n",
    "\n",
    "class EmailServices:\n",
    "    def _connect(self):\n",
    "        print(\"Connecting the email...\")\n",
    "\n",
    "    def _authenticate_email(self, username, password):\n",
    "        self.username = username\n",
    "        self.password = password\n",
    "        print(\"Authenticating the email...\")\n",
    "\n",
    "    def sending_email(self):\n",
    "        self._connect()\n",
    "        self._authenticate_email(\"ali_yousuf\", \"user@123\")\n",
    "        print(\"Sending the email...\")\n",
    "        self._disconnecting_email()\n",
    "\n",
    "    def _disconnecting_email(self):\n",
    "        print(\"Disconnecting the email\")\n",
    "\n",
    "email = EmailServices()\n",
    "email.sending_email()\n",
    "\n",
    "    \n"
   ]
  },
  {
   "cell_type": "code",
   "execution_count": 1,
   "id": "60d8cc12",
   "metadata": {},
   "outputs": [
    {
     "name": "stdout",
     "output_type": "stream",
     "text": [
      "{'brand': 'Corolla', 'model': 'GLI', 'year': 2018, 'number_of_doors': 4, 'number_of_wheels': 4}\n",
      "{'brand': 'Honda', 'model': 'CD-70', 'year': 2022, 'number_of_wheels': 2}\n",
      "starting the vehicle\n",
      "starting the vehicle\n"
     ]
    }
   ],
   "source": [
    "# Inheritance in python\n",
    "\n",
    "# Inheritance allows us to define a class that inherits all the methods and properties from another class\n",
    "\n",
    "class Vehicle:\n",
    "    def __init__(self, brand, model, year):\n",
    "        self.brand = brand\n",
    "        self.model = model\n",
    "        self.year = year\n",
    "\n",
    "    def start(self):\n",
    "        print(\"starting the vehicle\")\n",
    "\n",
    "    def stop(self):\n",
    "        print(\"stopping the vehicle\")\n",
    "\n",
    "class Car(Vehicle):\n",
    "    def __init__(self, brand, model, year, number_of_doors, number_of_wheels):\n",
    "        super().__init__(brand, model, year)\n",
    "        self.number_of_doors = number_of_doors\n",
    "        self.number_of_wheels = number_of_wheels\n",
    "\n",
    "class Bike(Vehicle):\n",
    "    def __init__(self, brand, model, year, number_of_wheels):\n",
    "        super().__init__(brand, model, year)\n",
    "        self.number_of_wheels = number_of_wheels\n",
    "\n",
    "car = Car(\"Corolla\", \"GLI\", 2018, 4, 4)\n",
    "print(car.__dict__)\n",
    "\n",
    "bike = Bike(\"Honda\", \"CD-70\", 2022, 2)\n",
    "print(bike.__dict__)\n",
    "\n",
    "car.start()\n",
    "bike.start()\n"
   ]
  },
  {
   "cell_type": "code",
   "execution_count": 6,
   "id": "e3fff61d",
   "metadata": {},
   "outputs": [
    {
     "name": "stdout",
     "output_type": "stream",
     "text": [
      "Inspecting the Ford Focus (Car)\n",
      "Starting the Vehicle\n",
      "Stoping the Vehicle\n",
      "Inspecting the Honda CD-70 (MotorBike)\n",
      "Starting the Vehicle\n",
      "Stoping the Vehicle\n"
     ]
    }
   ],
   "source": [
    "class Vehicle:\n",
    "    def __init__(self, brand, model, year):\n",
    "        self.brand = brand\n",
    "        self.model = model\n",
    "        self.year = year\n",
    "\n",
    "    def start(self):\n",
    "        print(\"Starting the Vehicle\")\n",
    "\n",
    "    def stop(self):\n",
    "        print(\"Stoping the Vehicle\")\n",
    "\n",
    "class Car(Vehicle):\n",
    "    def __init__(self, brand, model, year, number_of_doors):\n",
    "        super().__init__(brand, model, year)\n",
    "        self.number_of_doors = number_of_doors\n",
    "\n",
    "    # def CarStart(self):\n",
    "    #     print(\"Starting the Car\")\n",
    "\n",
    "    # def CarStop(self):\n",
    "    #     print(\"Stoping the Car\")\n",
    "\n",
    "class MotorBike(Vehicle):\n",
    "    def __init__(self, brand, model, year, number_of_wheels):\n",
    "        super().__init__(brand, model, year)\n",
    "        self.number_of_wheels = number_of_wheels\n",
    "\n",
    "    # def BikeStart(self):\n",
    "    #     print(\"Starting the Bike\")\n",
    "\n",
    "    # def BikeStop(self):\n",
    "    #     print(\"Stoping the Bike\")\n",
    "\n",
    "vehicles = [\n",
    "    Car(\"Ford\", \"Focus\", 2018, 4),\n",
    "    MotorBike(\"Honda\", \"CD-70\", 2022, 2)\n",
    "]\n",
    "\n",
    "for vehicle in vehicles:\n",
    "    if isinstance(vehicle, Vehicle):\n",
    "        print(f\"Inspecting the {vehicle.brand} {vehicle.model} ({type(vehicle).__name__})\")\n",
    "        vehicle.start()\n",
    "        vehicle.stop()\n",
    "    else:\n",
    "        raise Exception(\"Not valid vehicle\")\n",
    "\n",
    "# for vehicle in vehicles:\n",
    "#     if isinstance(vehicle, Car):\n",
    "#         print(f\"Inspecting the {vehicle.brand} {vehicle.model} ({type(vehicle).__name__})\")\n",
    "#         vehicle.start()\n",
    "#         vehicle.stop()\n",
    "#     elif isinstance(vehicle, MotorBike):\n",
    "#         print(f\"Inspecting the {vehicle.brand} {vehicle.model} ({type(vehicle).__name__})\")\n",
    "#         vehicle.start()\n",
    "#         vehicle.stop()\n",
    "#     else:\n",
    "#         raise Exception(\"Object is not valid vehicle\")\n"
   ]
  }
 ],
 "metadata": {
  "kernelspec": {
   "display_name": "myworld",
   "language": "python",
   "name": "python3"
  },
  "language_info": {
   "codemirror_mode": {
    "name": "ipython",
    "version": 3
   },
   "file_extension": ".py",
   "mimetype": "text/x-python",
   "name": "python",
   "nbconvert_exporter": "python",
   "pygments_lexer": "ipython3",
   "version": "3.12.3"
  }
 },
 "nbformat": 4,
 "nbformat_minor": 5
}
